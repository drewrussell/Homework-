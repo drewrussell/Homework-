{
 "cells": [
  {
   "cell_type": "code",
   "execution_count": 1,
   "metadata": {},
   "outputs": [],
   "source": [
    "import pandas as pd\n",
    "import numpy as np"
   ]
  },
  {
   "cell_type": "code",
   "execution_count": 2,
   "metadata": {},
   "outputs": [],
   "source": [
    "Budget=\"Budget_Data.csv\""
   ]
  },
  {
   "cell_type": "code",
   "execution_count": 3,
   "metadata": {},
   "outputs": [],
   "source": [
    "Budget2=pd.read_csv(Budget)"
   ]
  },
  {
   "cell_type": "code",
   "execution_count": 4,
   "metadata": {},
   "outputs": [],
   "source": [
    "TotalMonths=Budget2[\"Date\"].count()"
   ]
  },
  {
   "cell_type": "code",
   "execution_count": 5,
   "metadata": {},
   "outputs": [
    {
     "data": {
      "text/plain": [
       "86"
      ]
     },
     "execution_count": 5,
     "metadata": {},
     "output_type": "execute_result"
    }
   ],
   "source": [
    "TotalMonths"
   ]
  },
  {
   "cell_type": "code",
   "execution_count": 6,
   "metadata": {},
   "outputs": [],
   "source": [
    "NetAmount=Budget2[\"Profit/Losses\"].sum()"
   ]
  },
  {
   "cell_type": "code",
   "execution_count": 7,
   "metadata": {},
   "outputs": [
    {
     "data": {
      "text/plain": [
       "38382578"
      ]
     },
     "execution_count": 7,
     "metadata": {},
     "output_type": "execute_result"
    }
   ],
   "source": [
    "NetAmount"
   ]
  },
  {
   "cell_type": "code",
   "execution_count": 8,
   "metadata": {},
   "outputs": [],
   "source": [
    "listpl=list(Budget2[\"Profit/Losses\"])\n",
    "listpl\n",
    "\n",
    "\n",
    "S=pd.Series([867884,\n",
    " 984655,\n",
    " 322013,\n",
    " -69417,\n",
    " 310503,\n",
    " 522857,\n",
    " 1033096,\n",
    " 604885,\n",
    " -216386,\n",
    " 477532,\n",
    " 893810,\n",
    " -80353,\n",
    " 779806,\n",
    " -335203,\n",
    " 697845,\n",
    " 793163,\n",
    " 485070,\n",
    " 584122,\n",
    " 62729,\n",
    " 668179,\n",
    " 899906,\n",
    " 834719,\n",
    " 132003,\n",
    " 309978,\n",
    " -755566,\n",
    " 1170593,\n",
    " 252788,\n",
    " 1151518,\n",
    " 817256,\n",
    " 570757,\n",
    " 506702,\n",
    " -1022534,\n",
    " 475062,\n",
    " 779976,\n",
    " 144175,\n",
    " 542494,\n",
    " 359333,\n",
    " 321469,\n",
    " 67780,\n",
    " 471435,\n",
    " 565603,\n",
    " 872480,\n",
    " 789480,\n",
    " 999942,\n",
    " -1196225,\n",
    " 268997,\n",
    " -687986,\n",
    " 1150461,\n",
    " 682458,\n",
    " 617856,\n",
    " 824098,\n",
    " 581943,\n",
    " 132864,\n",
    " 448062,\n",
    " 689161,\n",
    " 800701,\n",
    " 1166643,\n",
    " 947333,\n",
    " 578668,\n",
    " 988505,\n",
    " 1139715,\n",
    " 1029471,\n",
    " 687533,\n",
    " -524626,\n",
    " 158620,\n",
    " 87795,\n",
    " 423389,\n",
    " 840723,\n",
    " 568529,\n",
    " 332067,\n",
    " 989499,\n",
    " 778237,\n",
    " 650000,\n",
    " -1100387,\n",
    " -174946,\n",
    " 757143,\n",
    " 445709,\n",
    " 712961,\n",
    " -1163797,\n",
    " 569899,\n",
    " 768450,\n",
    " 102685,\n",
    " 795914,\n",
    " 60988,\n",
    " 138230,\n",
    " 671099])\n",
    "\n",
    "\n",
    "\n",
    "    \n",
    "    \n",
    "    "
   ]
  },
  {
   "cell_type": "code",
   "execution_count": 9,
   "metadata": {},
   "outputs": [
    {
     "data": {
      "text/plain": [
       "0           NaN\n",
       "1      116771.0\n",
       "2     -662642.0\n",
       "3     -391430.0\n",
       "4      379920.0\n",
       "5      212354.0\n",
       "6      510239.0\n",
       "7     -428211.0\n",
       "8     -821271.0\n",
       "9      693918.0\n",
       "10     416278.0\n",
       "11    -974163.0\n",
       "12     860159.0\n",
       "13   -1115009.0\n",
       "14    1033048.0\n",
       "15      95318.0\n",
       "16    -308093.0\n",
       "17      99052.0\n",
       "18    -521393.0\n",
       "19     605450.0\n",
       "20     231727.0\n",
       "21     -65187.0\n",
       "22    -702716.0\n",
       "23     177975.0\n",
       "24   -1065544.0\n",
       "25    1926159.0\n",
       "26    -917805.0\n",
       "27     898730.0\n",
       "28    -334262.0\n",
       "29    -246499.0\n",
       "30     -64055.0\n",
       "31   -1529236.0\n",
       "32    1497596.0\n",
       "33     304914.0\n",
       "34    -635801.0\n",
       "35     398319.0\n",
       "36    -183161.0\n",
       "37     -37864.0\n",
       "38    -253689.0\n",
       "39     403655.0\n",
       "40      94168.0\n",
       "41     306877.0\n",
       "42     -83000.0\n",
       "43     210462.0\n",
       "44   -2196167.0\n",
       "45    1465222.0\n",
       "46    -956983.0\n",
       "47    1838447.0\n",
       "48    -468003.0\n",
       "49     -64602.0\n",
       "50     206242.0\n",
       "51    -242155.0\n",
       "52    -449079.0\n",
       "53     315198.0\n",
       "54     241099.0\n",
       "55     111540.0\n",
       "56     365942.0\n",
       "57    -219310.0\n",
       "58    -368665.0\n",
       "59     409837.0\n",
       "60     151210.0\n",
       "61    -110244.0\n",
       "62    -341938.0\n",
       "63   -1212159.0\n",
       "64     683246.0\n",
       "65     -70825.0\n",
       "66     335594.0\n",
       "67     417334.0\n",
       "68    -272194.0\n",
       "69    -236462.0\n",
       "70     657432.0\n",
       "71    -211262.0\n",
       "72    -128237.0\n",
       "73   -1750387.0\n",
       "74     925441.0\n",
       "75     932089.0\n",
       "76    -311434.0\n",
       "77     267252.0\n",
       "78   -1876758.0\n",
       "79    1733696.0\n",
       "80     198551.0\n",
       "81    -665765.0\n",
       "82     693229.0\n",
       "83    -734926.0\n",
       "84      77242.0\n",
       "85     532869.0\n",
       "dtype: float64"
      ]
     },
     "execution_count": 9,
     "metadata": {},
     "output_type": "execute_result"
    }
   ],
   "source": [
    "diff=S.diff()\n",
    "pd.set_option('display.max_rows', 86)\n",
    "diff"
   ]
  },
  {
   "cell_type": "code",
   "execution_count": 10,
   "metadata": {},
   "outputs": [
    {
     "data": {
      "text/plain": [
       "-2315.1176470588234"
      ]
     },
     "execution_count": 10,
     "metadata": {},
     "output_type": "execute_result"
    }
   ],
   "source": [
    "averagediff=diff.mean()\n",
    "averagediff"
   ]
  },
  {
   "cell_type": "code",
   "execution_count": 11,
   "metadata": {},
   "outputs": [
    {
     "data": {
      "text/plain": [
       "1926159.0"
      ]
     },
     "execution_count": 11,
     "metadata": {},
     "output_type": "execute_result"
    }
   ],
   "source": [
    "maxpl=diff.max()\n",
    "maxpl"
   ]
  },
  {
   "cell_type": "code",
   "execution_count": 12,
   "metadata": {},
   "outputs": [
    {
     "data": {
      "text/plain": [
       "-2196167.0"
      ]
     },
     "execution_count": 12,
     "metadata": {},
     "output_type": "execute_result"
    }
   ],
   "source": [
    "minpl=diff.min()\n",
    "minpl"
   ]
  },
  {
   "cell_type": "code",
   "execution_count": null,
   "metadata": {},
   "outputs": [],
   "source": []
  },
  {
   "cell_type": "code",
   "execution_count": 15,
   "metadata": {},
   "outputs": [
    {
     "data": {
      "text/plain": [
       "'Feb-2012'"
      ]
     },
     "execution_count": 15,
     "metadata": {},
     "output_type": "execute_result"
    }
   ],
   "source": [
    "listd=list(Budget2[\"Date\"])\n",
    "listd\n",
    "maxdate=listd[25]\n",
    "maxdate\n"
   ]
  },
  {
   "cell_type": "code",
   "execution_count": 16,
   "metadata": {},
   "outputs": [
    {
     "data": {
      "text/plain": [
       "'Sep-2013'"
      ]
     },
     "execution_count": 16,
     "metadata": {},
     "output_type": "execute_result"
    }
   ],
   "source": [
    "mindate=listd[44]\n",
    "mindate"
   ]
  },
  {
   "cell_type": "code",
   "execution_count": 55,
   "metadata": {},
   "outputs": [
    {
     "name": "stdout",
     "output_type": "stream",
     "text": [
      "Total Months: 86 \n",
      " Total: 38382578 \n",
      " Average Change: -2315.1176470588234 \n",
      " Greatest Increase in Profits: Feb-2012 ( $ 1926159.0 ) \n",
      " Greatest Decrease in Profits: Sep-2013 ( $ -2196167.0 )\n"
     ]
    }
   ],
   "source": [
    "print(\"Total Months:\", TotalMonths, \"\\n\", \"Total:\", NetAmount, \"\\n\", \"Average Change:\", averagediff, \"\\n\", \"Greatest Increase in Profits:\", maxdate, \"(\", \"$\", maxpl, \")\", \"\\n\", \"Greatest Decrease in Profits:\", mindate, \"(\", \"$\", minpl, \")\")"
   ]
  },
  {
   "cell_type": "code",
   "execution_count": null,
   "metadata": {},
   "outputs": [],
   "source": []
  }
 ],
 "metadata": {
  "kernelspec": {
   "display_name": "Python 3",
   "language": "python",
   "name": "python3"
  },
  "language_info": {
   "codemirror_mode": {
    "name": "ipython",
    "version": 3
   },
   "file_extension": ".py",
   "mimetype": "text/x-python",
   "name": "python",
   "nbconvert_exporter": "python",
   "pygments_lexer": "ipython3",
   "version": "3.7.1"
  }
 },
 "nbformat": 4,
 "nbformat_minor": 2
}
